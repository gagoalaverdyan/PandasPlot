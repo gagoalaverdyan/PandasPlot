{
 "cells": [
  {
   "cell_type": "code",
   "execution_count": 1,
   "id": "d60e02ea-0057-4d5b-9935-18afd3e5d7ab",
   "metadata": {},
   "outputs": [],
   "source": [
    "import pandas as pd\n",
    "import numpy as np"
   ]
  },
  {
   "cell_type": "code",
   "execution_count": 3,
   "id": "cd368c04",
   "metadata": {},
   "outputs": [
    {
     "data": {
      "text/plain": [
       "0     5\n",
       "1     9\n",
       "2    15\n",
       "3    17\n",
       "4    28\n",
       "5    65\n",
       "dtype: int64"
      ]
     },
     "execution_count": 3,
     "metadata": {},
     "output_type": "execute_result"
    }
   ],
   "source": [
    "# Creating a 1D list\n",
    "my_series = [5, 9, 15, 17, 28, 65]\n",
    "\n",
    "my_var = pd.Series(my_series)\n",
    "\n",
    "my_var"
   ]
  },
  {
   "cell_type": "code",
   "execution_count": 5,
   "id": "343864b0",
   "metadata": {},
   "outputs": [
    {
     "data": {
      "text/plain": [
       "28"
      ]
     },
     "execution_count": 5,
     "metadata": {},
     "output_type": "execute_result"
    }
   ],
   "source": [
    "# Printing individual values\n",
    "my_var[4]"
   ]
  },
  {
   "cell_type": "code",
   "execution_count": 7,
   "id": "0837286a",
   "metadata": {},
   "outputs": [
    {
     "data": {
      "text/plain": [
       "A     5\n",
       "B     9\n",
       "C    15\n",
       "D    17\n",
       "E    28\n",
       "F    65\n",
       "dtype: int64"
      ]
     },
     "execution_count": 7,
     "metadata": {},
     "output_type": "execute_result"
    }
   ],
   "source": [
    "# Labels using index argument\n",
    "my_index = [\"A\", \"B\", \"C\", \"D\", \"E\", \"F\"]\n",
    "\n",
    "my_var2 = pd.Series(my_series, my_index)\n",
    "\n",
    "my_var2"
   ]
  },
  {
   "cell_type": "code",
   "execution_count": 8,
   "id": "a4c59edd-ff9d-4b75-905c-7d8de4e212bd",
   "metadata": {},
   "outputs": [
    {
     "data": {
      "text/plain": [
       "15"
      ]
     },
     "execution_count": 8,
     "metadata": {},
     "output_type": "execute_result"
    }
   ],
   "source": [
    "my_var2[\"C\"]"
   ]
  },
  {
   "cell_type": "code",
   "execution_count": 10,
   "id": "c3ff987e-fafe-49f6-9aec-63a03e311505",
   "metadata": {},
   "outputs": [
    {
     "data": {
      "text/plain": [
       "Samsung    28\n",
       "Xiaomi     65\n",
       "Apple      58\n",
       "dtype: int64"
      ]
     },
     "execution_count": 10,
     "metadata": {},
     "output_type": "execute_result"
    }
   ],
   "source": [
    "# Key Value Dictionary\n",
    "phones = {\"Samsung\": 28, \"Xiaomi\": 65, \"Apple\": 58}\n",
    "\n",
    "my_var3 = pd.Series(phones)\n",
    "\n",
    "my_var3"
   ]
  },
  {
   "cell_type": "code",
   "execution_count": 11,
   "id": "bdc4454b-8eb7-4782-a08f-de2667130fca",
   "metadata": {},
   "outputs": [
    {
     "data": {
      "text/plain": [
       "65"
      ]
     },
     "execution_count": 11,
     "metadata": {},
     "output_type": "execute_result"
    }
   ],
   "source": [
    "my_var3[\"Xiaomi\"]"
   ]
  }
 ],
 "metadata": {
  "kernelspec": {
   "display_name": "Python 3 (ipykernel)",
   "language": "python",
   "name": "python3"
  },
  "language_info": {
   "codemirror_mode": {
    "name": "ipython",
    "version": 3
   },
   "file_extension": ".py",
   "mimetype": "text/x-python",
   "name": "python",
   "nbconvert_exporter": "python",
   "pygments_lexer": "ipython3",
   "version": "3.12.0"
  }
 },
 "nbformat": 4,
 "nbformat_minor": 5
}
